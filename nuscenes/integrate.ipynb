{
 "cells": [
  {
   "cell_type": "code",
   "execution_count": 4,
   "metadata": {},
   "outputs": [],
   "source": [
    "import torch\n",
    "from torchvision import transforms\n",
    "from PIL import Image"
   ]
  },
  {
   "cell_type": "code",
   "execution_count": 5,
   "metadata": {},
   "outputs": [
    {
     "name": "stdout",
     "output_type": "stream",
     "text": [
      "======\n",
      "Loading NuScenes tables for version v1.0-mini...\n",
      "23 category,\n",
      "8 attribute,\n",
      "4 visibility,\n",
      "911 instance,\n",
      "12 sensor,\n",
      "120 calibrated_sensor,\n",
      "31206 ego_pose,\n",
      "8 log,\n",
      "10 scene,\n",
      "404 sample,\n",
      "31206 sample_data,\n",
      "18538 sample_annotation,\n",
      "4 map,\n",
      "Done loading in 0.481 seconds.\n",
      "======\n",
      "Reverse indexing ...\n",
      "Done reverse indexing in 0.1 seconds.\n",
      "======\n"
     ]
    }
   ],
   "source": [
    "from nuscenes.can_bus.can_bus_api import NuScenesCanBus\n",
    "from nuscenes.nuscenes import NuScenes\n",
    "PATH = '/Users/jonathanmorris/Downloads/v1.0-mini'\n",
    "\n",
    "nusc = NuScenes(version='v1.0-mini', dataroot=PATH, verbose=True)\n",
    "nusc_can = NuScenesCanBus(dataroot=PATH)"
   ]
  },
  {
   "cell_type": "code",
   "execution_count": 6,
   "metadata": {},
   "outputs": [
    {
     "name": "stdout",
     "output_type": "stream",
     "text": [
      "scene-0061, Parked truck, construction, intersectio... [18-07-24 03:28:47]   19s, singapore-onenorth, #anns:4622\n",
      "scene-0103, Many peds right, wait for turning car, ... [18-08-01 19:26:43]   19s, boston-seaport, #anns:2046\n",
      "scene-0655, Parking lot, parked cars, jaywalker, be... [18-08-27 15:51:32]   20s, boston-seaport, #anns:2332\n",
      "scene-0553, Wait at intersection, bicycle, large tr... [18-08-28 20:48:16]   20s, boston-seaport, #anns:1950\n",
      "scene-0757, Arrive at busy intersection, bus, wait ... [18-08-30 19:25:08]   20s, boston-seaport, #anns:592\n",
      "scene-0796, Scooter, peds on sidewalk, bus, cars, t... [18-10-02 02:52:24]   20s, singapore-queensto, #anns:708\n",
      "scene-0916, Parking lot, bicycle rack, parked bicyc... [18-10-08 07:37:13]   20s, singapore-queensto, #anns:2387\n",
      "scene-1077, Night, big street, bus stop, high speed... [18-11-21 11:39:27]   20s, singapore-hollandv, #anns:890\n",
      "scene-1094, Night, after rain, many peds, PMD, ped ... [18-11-21 11:47:27]   19s, singapore-hollandv, #anns:1762\n",
      "scene-1100, Night, peds in sidewalk, peds cross cro... [18-11-21 11:49:47]   19s, singapore-hollandv, #anns:935\n"
     ]
    }
   ],
   "source": [
    "nusc.list_scenes()"
   ]
  },
  {
   "cell_type": "code",
   "execution_count": 7,
   "metadata": {},
   "outputs": [
    {
     "data": {
      "text/plain": [
       "{'brake_sensor': 0.18794798851013184,\n",
       " 'steering_sensor': 0.18827444314956665,\n",
       " 'throttle_sensor': 0.12093144655227661,\n",
       " 'utime': 1532402927649559}"
      ]
     },
     "execution_count": 7,
     "metadata": {},
     "output_type": "execute_result"
    }
   ],
   "source": [
    "my_scene = nusc.scene[0]\n",
    "my_scene_can = nusc_can.get_messages(my_scene['name'], 'zoesensors')\n",
    "my_scene_can[0]"
   ]
  },
  {
   "cell_type": "code",
   "execution_count": 8,
   "metadata": {},
   "outputs": [],
   "source": [
    "first_sample_token = my_scene['first_sample_token']\n",
    "my_sample = nusc.get('sample', first_sample_token)"
   ]
  },
  {
   "cell_type": "code",
   "execution_count": 9,
   "metadata": {},
   "outputs": [],
   "source": [
    "def get_closest_can(time, can_objects):\n",
    "    closest = can_objects[0]\n",
    "    for object in can_objects:\n",
    "        if object[\"utime\"] - time < closest[\"utime\"] - time:\n",
    "            closest = object\n",
    "    return closest\n",
    "\n",
    "def normalize_can(can_obj):\n",
    "    # These values are from here: https://github.com/nutonomy/nuscenes-devkit/blob/master/python-sdk/nuscenes/can_bus/README.md#zoe-sensors\n",
    "    min_breaking = 0.166\n",
    "    max_breaking = 0.631\n",
    "    min_steering = 0.176\n",
    "    max_steering = 0.252\n",
    "    min_throttle = 0.105\n",
    "    max_throttle = 0.411\n",
    "\n",
    "    # convert values from 0-1\n",
    "    can_obj[\"brake_sensor\"] = (can_obj[\"brake_sensor\"] - min_breaking) / (max_breaking - min_breaking)\n",
    "    can_obj[\"steering_sensor\"] = (can_obj[\"steering_sensor\"] - min_steering) / (max_steering - min_steering)\n",
    "    can_obj[\"throttle_sensor\"] = (can_obj[\"throttle_sensor\"] - min_throttle) / (max_throttle - min_throttle)\n",
    "\n",
    "    # reduce precision\n",
    "    can_obj[\"brake_sensor\"] = round(can_obj[\"brake_sensor\"], 2)\n",
    "    can_obj[\"steering_sensor\"] = round(can_obj[\"steering_sensor\"], 2)\n",
    "    can_obj[\"throttle_sensor\"] = round(can_obj[\"throttle_sensor\"], 2)\n",
    "    \n",
    "    "
   ]
  },
  {
   "cell_type": "code",
   "execution_count": 10,
   "metadata": {},
   "outputs": [
    {
     "name": "stdout",
     "output_type": "stream",
     "text": [
      "Before: {'brake_sensor': 0.18794798851013184, 'steering_sensor': 0.18827444314956665, 'throttle_sensor': 0.12093144655227661, 'utime': 1532402927649559}\n",
      "After: {'brake_sensor': 0.05, 'steering_sensor': 0.16, 'throttle_sensor': 0.05, 'utime': 1532402927649559}\n"
     ]
    }
   ],
   "source": [
    "can_data = get_closest_can(my_sample['timestamp'], my_scene_can)\n",
    "print(\"Before: \" + str(can_data))\n",
    "normalize_can(can_data)\n",
    "print(\"After: \" + str(can_data))"
   ]
  },
  {
   "cell_type": "code",
   "execution_count": 11,
   "metadata": {},
   "outputs": [],
   "source": [
    "sensor = 'CAM_FRONT'\n",
    "cam_front_data = nusc.get('sample_data', my_sample['data'][sensor])\n",
    "current_image_path = PATH+\"/\"+cam_front_data['filename']"
   ]
  },
  {
   "cell_type": "code",
   "execution_count": 12,
   "metadata": {},
   "outputs": [
    {
     "data": {
      "text/plain": [
       "tensor([[[0.1216, 0.1176, 0.1098,  ..., 0.4863, 0.4863, 0.4863],\n",
       "         [0.1176, 0.1176, 0.1137,  ..., 0.4863, 0.4863, 0.4863],\n",
       "         [0.0980, 0.1020, 0.1020,  ..., 0.4863, 0.4863, 0.4863],\n",
       "         ...,\n",
       "         [0.1020, 0.2431, 0.2627,  ..., 0.4000, 0.4039, 0.4039],\n",
       "         [0.1020, 0.2431, 0.2627,  ..., 0.3961, 0.3961, 0.4000],\n",
       "         [0.1020, 0.2431, 0.2627,  ..., 0.3922, 0.3961, 0.3961]],\n",
       "\n",
       "        [[0.0863, 0.0824, 0.0863,  ..., 0.5412, 0.5412, 0.5412],\n",
       "         [0.0824, 0.0824, 0.0902,  ..., 0.5412, 0.5412, 0.5412],\n",
       "         [0.0627, 0.0667, 0.0784,  ..., 0.5412, 0.5412, 0.5412],\n",
       "         ...,\n",
       "         [0.1020, 0.2431, 0.2627,  ..., 0.4000, 0.4039, 0.4039],\n",
       "         [0.1020, 0.2431, 0.2627,  ..., 0.3961, 0.3961, 0.4000],\n",
       "         [0.1020, 0.2431, 0.2627,  ..., 0.3922, 0.3961, 0.3961]],\n",
       "\n",
       "        [[0.0980, 0.0941, 0.1020,  ..., 0.5922, 0.5922, 0.5922],\n",
       "         [0.0941, 0.0941, 0.1059,  ..., 0.5922, 0.5922, 0.5922],\n",
       "         [0.0667, 0.0706, 0.0863,  ..., 0.5922, 0.5922, 0.5922],\n",
       "         ...,\n",
       "         [0.1020, 0.2431, 0.2627,  ..., 0.3686, 0.3725, 0.3725],\n",
       "         [0.1020, 0.2431, 0.2627,  ..., 0.3647, 0.3647, 0.3686],\n",
       "         [0.1020, 0.2431, 0.2627,  ..., 0.3608, 0.3647, 0.3647]]])"
      ]
     },
     "execution_count": 12,
     "metadata": {},
     "output_type": "execute_result"
    }
   ],
   "source": [
    "img = Image.open(current_image_path)\n",
    "convert_tensor = transforms.ToTensor()\n",
    "convert_tensor(img)"
   ]
  },
  {
   "cell_type": "code",
   "execution_count": null,
   "metadata": {},
   "outputs": [],
   "source": []
  }
 ],
 "metadata": {
  "kernelspec": {
   "display_name": "Python 3",
   "language": "python",
   "name": "python3"
  },
  "language_info": {
   "codemirror_mode": {
    "name": "ipython",
    "version": 3
   },
   "file_extension": ".py",
   "mimetype": "text/x-python",
   "name": "python",
   "nbconvert_exporter": "python",
   "pygments_lexer": "ipython3",
   "version": "3.10.6"
  }
 },
 "nbformat": 4,
 "nbformat_minor": 2
}
